{
 "cells": [
  {
   "cell_type": "markdown",
   "id": "bd5a829c",
   "metadata": {},
   "source": [
    "# ECE176: Pneumonia Detection, CNN"
   ]
  },
  {
   "cell_type": "markdown",
   "id": "0328a9b2",
   "metadata": {},
   "source": [
    "## Introduction"
   ]
  },
  {
   "cell_type": "markdown",
   "id": "afcce832",
   "metadata": {},
   "source": [
    "**In this report, we aim to address the following questions:**\n",
    "\n",
    "1. How accurately can we distinguish healthy and pneumonia patients with our CNN? \n",
    "\n",
    "2. Can we distinguish between viral and bacterial pneumonia? \n",
    "       \n",
    "3. Can we use pre-trained CNNs or UNET models to create a more accurate model? "
   ]
  },
  {
   "cell_type": "markdown",
   "id": "95d682b1",
   "metadata": {},
   "source": [
    "## Dataset"
   ]
  },
  {
   "cell_type": "markdown",
   "id": "a054cb86",
   "metadata": {},
   "source": [
    "[Collection of Chest X Ray of Healthy vs Pneumonia affected patients](https://www.kaggle.com/datasets/praveengovi/coronahack-chest-xraydataset)"
   ]
  },
  {
   "cell_type": "markdown",
   "id": "32f389db",
   "metadata": {},
   "source": [
    "## Import Packages and Prepare GPU"
   ]
  },
  {
   "cell_type": "code",
   "execution_count": 21,
   "id": "3470b71a",
   "metadata": {},
   "outputs": [],
   "source": [
    "import torch\n",
    "import torch.nn as nn\n",
    "import torch.optim as optim\n",
    "from torch.utils.data import DataLoader\n",
    "from torch.utils.data import sampler\n",
    "\n",
    "import torchvision.datasets as dset\n",
    "import torchvision.transforms as T\n",
    "\n",
    "import numpy as np\n",
    "import os\n",
    "import pandas as pd\n",
    "import shutil"
   ]
  },
  {
   "cell_type": "code",
   "execution_count": 22,
   "id": "162a5699",
   "metadata": {},
   "outputs": [
    {
     "name": "stdout",
     "output_type": "stream",
     "text": [
      "using device: cuda\n"
     ]
    }
   ],
   "source": [
    "USE_GPU = True\n",
    "num_class = 100\n",
    "dtype = torch.float32 # we will be using float throughout this tutorial\n",
    "\n",
    "if USE_GPU and torch.cuda.is_available():\n",
    "    device = torch.device('cuda')\n",
    "else:\n",
    "    device = torch.device('cpu')\n",
    "\n",
    "print('using device:', device)"
   ]
  },
  {
   "cell_type": "markdown",
   "id": "a57db892",
   "metadata": {},
   "source": [
    "## Load Dataset With Augmentations"
   ]
  },
  {
   "cell_type": "markdown",
   "id": "a5e01af6",
   "metadata": {},
   "source": [
    "We first need to split the images based on labeled classes. \n",
    "**Note: This only needs to be run one time**"
   ]
  },
  {
   "cell_type": "code",
   "execution_count": 23,
   "id": "70a0283f",
   "metadata": {},
   "outputs": [
    {
     "data": {
      "text/plain": [
       "<bound method NDFrame.head of       Unnamed: 0            X_ray_image_name     Label Dataset_type  \\\n",
       "0              0           IM-0128-0001.jpeg    Normal        TRAIN   \n",
       "1              1           IM-0127-0001.jpeg    Normal        TRAIN   \n",
       "2              2           IM-0125-0001.jpeg    Normal        TRAIN   \n",
       "3              3           IM-0122-0001.jpeg    Normal        TRAIN   \n",
       "4              4           IM-0119-0001.jpeg    Normal        TRAIN   \n",
       "...          ...                         ...       ...          ...   \n",
       "5905        5928  person1637_virus_2834.jpeg  Pnemonia         TEST   \n",
       "5906        5929  person1635_virus_2831.jpeg  Pnemonia         TEST   \n",
       "5907        5930  person1634_virus_2830.jpeg  Pnemonia         TEST   \n",
       "5908        5931  person1633_virus_2829.jpeg  Pnemonia         TEST   \n",
       "5909        5932  person1632_virus_2827.jpeg  Pnemonia         TEST   \n",
       "\n",
       "     Label_2_Virus_category Label_1_Virus_category  \n",
       "0                       NaN                    NaN  \n",
       "1                       NaN                    NaN  \n",
       "2                       NaN                    NaN  \n",
       "3                       NaN                    NaN  \n",
       "4                       NaN                    NaN  \n",
       "...                     ...                    ...  \n",
       "5905                    NaN                  Virus  \n",
       "5906                    NaN                  Virus  \n",
       "5907                    NaN                  Virus  \n",
       "5908                    NaN                  Virus  \n",
       "5909                    NaN                  Virus  \n",
       "\n",
       "[5910 rows x 6 columns]>"
      ]
     },
     "execution_count": 23,
     "metadata": {},
     "output_type": "execute_result"
    }
   ],
   "source": [
    "# first read in the metadata file\n",
    "data = pd.read_csv(\"Chest_xray_Corona_Metadata.csv\")\n",
    "data.head"
   ]
  },
  {
   "cell_type": "code",
   "execution_count": 24,
   "id": "9cc04d29",
   "metadata": {},
   "outputs": [
    {
     "name": "stdout",
     "output_type": "stream",
     "text": [
      "{'Pnemonia', 'Normal'}\n"
     ]
    }
   ],
   "source": [
    "print(set(data['Label']))"
   ]
  },
  {
   "cell_type": "code",
   "execution_count": 25,
   "id": "bdeb3308",
   "metadata": {},
   "outputs": [],
   "source": [
    "# subdirectories for each class\n",
    "#os.mkdir(\"Coronahack-Chest-XRay-Dataset/Coronahack-Chest-XRay-Dataset/train/Pnemonia\")\n",
    "#os.mkdir(\"Coronahack-Chest-XRay-Dataset/Coronahack-Chest-XRay-Dataset/train/Normal\")\n",
    "#os.mkdir(\"Coronahack-Chest-XRay-Dataset/Coronahack-Chest-XRay-Dataset/test/Pnemonia\")\n",
    "#os.mkdir(\"Coronahack-Chest-XRay-Dataset/Coronahack-Chest-XRay-Dataset/test/Normal\")"
   ]
  },
  {
   "cell_type": "code",
   "execution_count": 26,
   "id": "9f3ba5fd",
   "metadata": {},
   "outputs": [
    {
     "name": "stdout",
     "output_type": "stream",
     "text": [
      "Train data: 5311\n",
      "Test data: 626\n"
     ]
    }
   ],
   "source": [
    "path_train = \"Coronahack-Chest-XRay-Dataset/Coronahack-Chest-XRay-Dataset/train\"\n",
    "path_test = \"Coronahack-Chest-XRay-Dataset/Coronahack-Chest-XRay-Dataset/test\"\n",
    "\n",
    "train_num = len(os.listdir(path_train))\n",
    "print(\"Train data: \" + str(train_num))\n",
    "test_num = len(os.listdir(path_test))\n",
    "print(\"Test data: \" + str(test_num))"
   ]
  },
  {
   "cell_type": "code",
   "execution_count": 29,
   "id": "f7938fa3",
   "metadata": {},
   "outputs": [
    {
     "name": "stdout",
     "output_type": "stream",
     "text": [
      "X-ray of Normal patients (TRAIN DATASET): 1342\n",
      " X-ray of Infected patients (TRAIN DATASET): 3944\n",
      " X-ray of Normal patients (TEST DATASET): 234\n",
      " X-ray of Infected patients (TEST DATASET): 390\n",
      "\n"
     ]
    }
   ],
   "source": [
    "# ONLY NEED TO RUN ONCE\n",
    "\n",
    "normal_train = 0\n",
    "pnemonia_train = 0\n",
    "normal_test = 0\n",
    "pnemonia_test = 0\n",
    "\n",
    "# \"X_ray_image_name\" = name of file\n",
    "# \"Label\" = pneumonia or normal\n",
    "# \"Dataset_type\" = train or test\n",
    "\n",
    "for i in range(data.shape[0]):\n",
    "    if data[\"Dataset_type\"][i] == \"TRAIN\":\n",
    "        if data[\"Label\"][i] == \"Normal\":\n",
    "            shutil.copy(path_train + \"/\" + data[\"X_ray_image_name\"][i], path_train + \"/Normal/\" + data[\"X_ray_image_name\"][i])\n",
    "            normal_train = normal_train + 1\n",
    "        else:\n",
    "            shutil.copy(path_train + \"/\" + data[\"X_ray_image_name\"][i], path_train + \"/Pnemonia/\" + data[\"X_ray_image_name\"][i])\n",
    "            pnemonia_train = pnemonia_train + 1\n",
    "    elif data[\"Dataset_type\"][i] == \"TEST\":\n",
    "        if data[\"Label\"][i] == \"Normal\":\n",
    "            shutil.copy(path_test + \"/\" + data[\"X_ray_image_name\"][i], path_test + \"/Normal/\" + data[\"X_ray_image_name\"][i])\n",
    "            normal_test = normal_test + 1\n",
    "        else:\n",
    "            shutil.copy(path_test + \"/\" + data[\"X_ray_image_name\"][i], path_test + \"/Pnemonia/\" + data[\"X_ray_image_name\"][i])\n",
    "            pnemonia_test = pnemonia_test + 1\n",
    "\n",
    "print(\n",
    "    \"X-ray of Normal patients (TRAIN DATASET): \" + str(normal_train) + \"\\n\",\n",
    "    \"X-ray of Infected patients (TRAIN DATASET): \" + str(pnemonia_train) + \"\\n\",\n",
    "    \"X-ray of Normal patients (TEST DATASET): \" + str(normal_test) + \"\\n\",\n",
    "    \"X-ray of Infected patients (TEST DATASET): \" + str(pnemonia_test) + \"\\n\"\n",
    ")"
   ]
  },
  {
   "cell_type": "code",
   "execution_count": 31,
   "id": "624fe544",
   "metadata": {},
   "outputs": [
    {
     "name": "stdout",
     "output_type": "stream",
     "text": [
      "Train data: 5286\n",
      "Test data: 624\n"
     ]
    }
   ],
   "source": [
    "# redefine number of train test \n",
    "train_num = normal_train + pnemonia_train\n",
    "print(\"Train data: \" + str(train_num))\n",
    "test_num = normal_test + pnemonia_test\n",
    "print(\"Test data: \" + str(test_num))"
   ]
  },
  {
   "cell_type": "code",
   "execution_count": 32,
   "id": "8637b1aa",
   "metadata": {},
   "outputs": [],
   "source": [
    "train_data_path = \"Coronahack-Chest-XRay-Dataset/Coronahack-Chest-XRay-Dataset/train/\"\n",
    "test_data_path = \"Coronahack-Chest-XRay-Dataset/Coronahack-Chest-XRay-Dataset/test/\"\n",
    "batch_size = 64\n",
    "\n",
    "# data augmentation \n",
    "transform = T.Compose([\n",
    "    T.Resize(256),\n",
    "    T.RandomHorizontalFlip(), # horizontal flips\n",
    "    T.CenterCrop(256), # crops\n",
    "    T.ToTensor(),\n",
    "    T.Normalize((0.5071, 0.4867, 0.4408), (0.2675, 0.2565, 0.2761)) # hard coded mean and std rgb values from assignment 5\n",
    "    ])\n",
    "\n",
    "train_data = dset.ImageFolder(root=train_data_path, transform=transform)\n",
    "train_data_loader = DataLoader(train_data, batch_size=batch_size, num_workers=2, sampler=sampler.SubsetRandomSampler(range(train_num)))\n",
    "test_data = dset.ImageFolder(root=test_data_path, transform=transform)\n",
    "test_data_loader  = DataLoader(test_data, batch_size=batch_size, num_workers=2, sampler=sampler.SubsetRandomSampler(range(test_num))) \n"
   ]
  },
  {
   "cell_type": "markdown",
   "id": "ddb614b0",
   "metadata": {},
   "source": [
    "# Visualize Data"
   ]
  },
  {
   "cell_type": "markdown",
   "id": "d7933ad0",
   "metadata": {},
   "source": [
    "Hi Terry, see here for some visualization ideas: \n",
    "https://www.kaggle.com/code/frozenwolf/coronahack-finetuning-resnet18-pytorch"
   ]
  },
  {
   "cell_type": "code",
   "execution_count": null,
   "id": "556cbad6",
   "metadata": {},
   "outputs": [],
   "source": []
  }
 ],
 "metadata": {
  "kernelspec": {
   "display_name": "Python 3 (ipykernel)",
   "language": "python",
   "name": "python3"
  },
  "language_info": {
   "codemirror_mode": {
    "name": "ipython",
    "version": 3
   },
   "file_extension": ".py",
   "mimetype": "text/x-python",
   "name": "python",
   "nbconvert_exporter": "python",
   "pygments_lexer": "ipython3",
   "version": "3.9.5"
  }
 },
 "nbformat": 4,
 "nbformat_minor": 5
}
