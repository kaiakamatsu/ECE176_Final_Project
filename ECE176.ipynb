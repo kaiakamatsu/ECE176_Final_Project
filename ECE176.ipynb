{
 "cells": [
  {
   "cell_type": "markdown",
   "id": "bd5a829c",
   "metadata": {},
   "source": [
    "# ECE176: Pneumonia Detection, CNN"
   ]
  },
  {
   "cell_type": "markdown",
   "id": "0328a9b2",
   "metadata": {},
   "source": [
    "## Introduction"
   ]
  },
  {
   "cell_type": "markdown",
   "id": "afcce832",
   "metadata": {},
   "source": [
    "**In this report, we aim to address the following questions:**\n",
    "\n",
    "1. How accurately can we distinguish healthy and pneumonia patients with our CNN? \n",
    "\n",
    "2. Can we distinguish between viral and bacterial pneumonia? \n",
    "       \n",
    "3. Can we use pre-trained CNNs or UNET models to create a more accurate model? "
   ]
  },
  {
   "cell_type": "markdown",
   "id": "95d682b1",
   "metadata": {},
   "source": [
    "## Dataset"
   ]
  },
  {
   "cell_type": "markdown",
   "id": "a054cb86",
   "metadata": {},
   "source": [
    "[Collection of Chest X Ray of Healthy vs Pneumonia affected patients](https://www.kaggle.com/datasets/praveengovi/coronahack-chest-xraydataset)"
   ]
  },
  {
   "cell_type": "markdown",
   "id": "32f389db",
   "metadata": {},
   "source": [
    "## Import Packages and Prepare GPU"
   ]
  },
  {
   "cell_type": "code",
   "execution_count": 1,
   "id": "3470b71a",
   "metadata": {},
   "outputs": [],
   "source": [
    "import torch\n",
    "import torch.nn as nn\n",
    "import torch.optim as optim\n",
    "from torch.utils.data import DataLoader\n",
    "from torch.utils.data import sampler\n",
    "import torch.nn.functional as F\n",
    "\n",
    "import torchvision.datasets as dset\n",
    "import torchvision.transforms as T\n",
    "import torchvision\n",
    "\n",
    "import numpy as np\n",
    "import os\n",
    "import pandas as pd\n",
    "import shutil\n",
    "import matplotlib.pyplot as plt"
   ]
  },
  {
   "cell_type": "code",
   "execution_count": 2,
   "id": "162a5699",
   "metadata": {},
   "outputs": [
    {
     "name": "stdout",
     "output_type": "stream",
     "text": [
      "using device: cuda\n"
     ]
    }
   ],
   "source": [
    "USE_GPU = True\n",
    "num_class = 100\n",
    "dtype = torch.float32 # we will be using float throughout this tutorial\n",
    "\n",
    "if USE_GPU and torch.cuda.is_available():\n",
    "    device = torch.device('cuda')\n",
    "else:\n",
    "    device = torch.device('cpu')\n",
    "\n",
    "print('using device:', device)"
   ]
  },
  {
   "cell_type": "markdown",
   "id": "a57db892",
   "metadata": {},
   "source": [
    "## Load Dataset With Augmentations"
   ]
  },
  {
   "cell_type": "markdown",
   "id": "a5e01af6",
   "metadata": {},
   "source": [
    "We first need to split the images based on labeled classes to use the Dataloader.\n",
    "\n",
    "**Note: This only needs to be run one time**"
   ]
  },
  {
   "cell_type": "code",
   "execution_count": 3,
   "id": "70a0283f",
   "metadata": {},
   "outputs": [
    {
     "data": {
      "text/html": [
       "<div>\n",
       "<style scoped>\n",
       "    .dataframe tbody tr th:only-of-type {\n",
       "        vertical-align: middle;\n",
       "    }\n",
       "\n",
       "    .dataframe tbody tr th {\n",
       "        vertical-align: top;\n",
       "    }\n",
       "\n",
       "    .dataframe thead th {\n",
       "        text-align: right;\n",
       "    }\n",
       "</style>\n",
       "<table border=\"1\" class=\"dataframe\">\n",
       "  <thead>\n",
       "    <tr style=\"text-align: right;\">\n",
       "      <th></th>\n",
       "      <th>Unnamed: 0</th>\n",
       "      <th>X_ray_image_name</th>\n",
       "      <th>Label</th>\n",
       "      <th>Dataset_type</th>\n",
       "      <th>Label_2_Virus_category</th>\n",
       "      <th>Label_1_Virus_category</th>\n",
       "    </tr>\n",
       "  </thead>\n",
       "  <tbody>\n",
       "    <tr>\n",
       "      <th>0</th>\n",
       "      <td>0</td>\n",
       "      <td>IM-0128-0001.jpeg</td>\n",
       "      <td>Normal</td>\n",
       "      <td>TRAIN</td>\n",
       "      <td>NaN</td>\n",
       "      <td>NaN</td>\n",
       "    </tr>\n",
       "    <tr>\n",
       "      <th>1</th>\n",
       "      <td>1</td>\n",
       "      <td>IM-0127-0001.jpeg</td>\n",
       "      <td>Normal</td>\n",
       "      <td>TRAIN</td>\n",
       "      <td>NaN</td>\n",
       "      <td>NaN</td>\n",
       "    </tr>\n",
       "    <tr>\n",
       "      <th>2</th>\n",
       "      <td>2</td>\n",
       "      <td>IM-0125-0001.jpeg</td>\n",
       "      <td>Normal</td>\n",
       "      <td>TRAIN</td>\n",
       "      <td>NaN</td>\n",
       "      <td>NaN</td>\n",
       "    </tr>\n",
       "    <tr>\n",
       "      <th>3</th>\n",
       "      <td>3</td>\n",
       "      <td>IM-0122-0001.jpeg</td>\n",
       "      <td>Normal</td>\n",
       "      <td>TRAIN</td>\n",
       "      <td>NaN</td>\n",
       "      <td>NaN</td>\n",
       "    </tr>\n",
       "    <tr>\n",
       "      <th>4</th>\n",
       "      <td>4</td>\n",
       "      <td>IM-0119-0001.jpeg</td>\n",
       "      <td>Normal</td>\n",
       "      <td>TRAIN</td>\n",
       "      <td>NaN</td>\n",
       "      <td>NaN</td>\n",
       "    </tr>\n",
       "    <tr>\n",
       "      <th>5</th>\n",
       "      <td>5</td>\n",
       "      <td>IM-0117-0001.jpeg</td>\n",
       "      <td>Normal</td>\n",
       "      <td>TRAIN</td>\n",
       "      <td>NaN</td>\n",
       "      <td>NaN</td>\n",
       "    </tr>\n",
       "    <tr>\n",
       "      <th>6</th>\n",
       "      <td>6</td>\n",
       "      <td>IM-0115-0001.jpeg</td>\n",
       "      <td>Normal</td>\n",
       "      <td>TRAIN</td>\n",
       "      <td>NaN</td>\n",
       "      <td>NaN</td>\n",
       "    </tr>\n",
       "    <tr>\n",
       "      <th>7</th>\n",
       "      <td>7</td>\n",
       "      <td>IM-0189-0001.jpeg</td>\n",
       "      <td>Normal</td>\n",
       "      <td>TRAIN</td>\n",
       "      <td>NaN</td>\n",
       "      <td>NaN</td>\n",
       "    </tr>\n",
       "    <tr>\n",
       "      <th>8</th>\n",
       "      <td>8</td>\n",
       "      <td>IM-0187-0001.jpeg</td>\n",
       "      <td>Normal</td>\n",
       "      <td>TRAIN</td>\n",
       "      <td>NaN</td>\n",
       "      <td>NaN</td>\n",
       "    </tr>\n",
       "    <tr>\n",
       "      <th>9</th>\n",
       "      <td>9</td>\n",
       "      <td>IM-0185-0001.jpeg</td>\n",
       "      <td>Normal</td>\n",
       "      <td>TRAIN</td>\n",
       "      <td>NaN</td>\n",
       "      <td>NaN</td>\n",
       "    </tr>\n",
       "  </tbody>\n",
       "</table>\n",
       "</div>"
      ],
      "text/plain": [
       "   Unnamed: 0   X_ray_image_name   Label Dataset_type Label_2_Virus_category  \\\n",
       "0           0  IM-0128-0001.jpeg  Normal        TRAIN                    NaN   \n",
       "1           1  IM-0127-0001.jpeg  Normal        TRAIN                    NaN   \n",
       "2           2  IM-0125-0001.jpeg  Normal        TRAIN                    NaN   \n",
       "3           3  IM-0122-0001.jpeg  Normal        TRAIN                    NaN   \n",
       "4           4  IM-0119-0001.jpeg  Normal        TRAIN                    NaN   \n",
       "5           5  IM-0117-0001.jpeg  Normal        TRAIN                    NaN   \n",
       "6           6  IM-0115-0001.jpeg  Normal        TRAIN                    NaN   \n",
       "7           7  IM-0189-0001.jpeg  Normal        TRAIN                    NaN   \n",
       "8           8  IM-0187-0001.jpeg  Normal        TRAIN                    NaN   \n",
       "9           9  IM-0185-0001.jpeg  Normal        TRAIN                    NaN   \n",
       "\n",
       "  Label_1_Virus_category  \n",
       "0                    NaN  \n",
       "1                    NaN  \n",
       "2                    NaN  \n",
       "3                    NaN  \n",
       "4                    NaN  \n",
       "5                    NaN  \n",
       "6                    NaN  \n",
       "7                    NaN  \n",
       "8                    NaN  \n",
       "9                    NaN  "
      ]
     },
     "execution_count": 3,
     "metadata": {},
     "output_type": "execute_result"
    }
   ],
   "source": [
    "# first read in the metadata file\n",
    "data = pd.read_csv(\"Chest_xray_Corona_Metadata.csv\")\n",
    "data.head(10)"
   ]
  },
  {
   "cell_type": "code",
   "execution_count": 4,
   "id": "9cc04d29",
   "metadata": {},
   "outputs": [
    {
     "name": "stdout",
     "output_type": "stream",
     "text": [
      "{'Pnemonia', 'Normal'}\n"
     ]
    }
   ],
   "source": [
    "print(set(data['Label']))"
   ]
  },
  {
   "cell_type": "code",
   "execution_count": 5,
   "id": "bdeb3308",
   "metadata": {},
   "outputs": [],
   "source": [
    "# subdirectories for each class\n",
    "#os.mkdir(\"Coronahack-Chest-XRay-Dataset/Coronahack-Chest-XRay-Dataset/train/Pnemonia\")\n",
    "#os.mkdir(\"Coronahack-Chest-XRay-Dataset/Coronahack-Chest-XRay-Dataset/train/Normal\")\n",
    "#os.mkdir(\"Coronahack-Chest-XRay-Dataset/Coronahack-Chest-XRay-Dataset/test/Pnemonia\")\n",
    "#os.mkdir(\"Coronahack-Chest-XRay-Dataset/Coronahack-Chest-XRay-Dataset/test/Normal\")"
   ]
  },
  {
   "cell_type": "code",
   "execution_count": 6,
   "id": "9f3ba5fd",
   "metadata": {},
   "outputs": [
    {
     "name": "stdout",
     "output_type": "stream",
     "text": [
      "Train data: 5311\n",
      "Test data: 626\n"
     ]
    }
   ],
   "source": [
    "path_train = \"Coronahack-Chest-XRay-Dataset/Coronahack-Chest-XRay-Dataset/train\"\n",
    "path_test = \"Coronahack-Chest-XRay-Dataset/Coronahack-Chest-XRay-Dataset/test\"\n",
    "\n",
    "train_num = len(os.listdir(path_train))\n",
    "print(\"Train data: \" + str(train_num))\n",
    "test_num = len(os.listdir(path_test))\n",
    "print(\"Test data: \" + str(test_num))\n"
   ]
  },
  {
   "cell_type": "code",
   "execution_count": 7,
   "id": "f7938fa3",
   "metadata": {},
   "outputs": [
    {
     "name": "stdout",
     "output_type": "stream",
     "text": [
      "X-ray of Normal patients (TRAIN DATASET): 1342\n",
      " X-ray of Infected patients (TRAIN DATASET): 3944\n",
      " X-ray of Normal patients (TEST DATASET): 234\n",
      " X-ray of Infected patients (TEST DATASET): 390\n",
      "\n"
     ]
    }
   ],
   "source": [
    "# ONLY NEED TO RUN ONCE\n",
    "\n",
    "normal_train = 0\n",
    "pnemonia_train = 0\n",
    "normal_test = 0\n",
    "pnemonia_test = 0\n",
    "\n",
    "# \"X_ray_image_name\" = name of file\n",
    "# \"Label\" = pneumonia or normal\n",
    "# \"Dataset_type\" = train or test\n",
    "\n",
    "for i in range(data.shape[0]):\n",
    "    if data[\"Dataset_type\"][i] == \"TRAIN\":\n",
    "        if data[\"Label\"][i] == \"Normal\":\n",
    "            shutil.copy(path_train + \"/\" + data[\"X_ray_image_name\"][i], path_train + \"/Normal/\" + data[\"X_ray_image_name\"][i])\n",
    "            normal_train = normal_train + 1\n",
    "        else:\n",
    "            shutil.copy(path_train + \"/\" + data[\"X_ray_image_name\"][i], path_train + \"/Pnemonia/\" + data[\"X_ray_image_name\"][i])\n",
    "            pnemonia_train = pnemonia_train + 1\n",
    "    elif data[\"Dataset_type\"][i] == \"TEST\":\n",
    "        if data[\"Label\"][i] == \"Normal\":\n",
    "            shutil.copy(path_test + \"/\" + data[\"X_ray_image_name\"][i], path_test + \"/Normal/\" + data[\"X_ray_image_name\"][i])\n",
    "            normal_test = normal_test + 1\n",
    "        else:\n",
    "            shutil.copy(path_test + \"/\" + data[\"X_ray_image_name\"][i], path_test + \"/Pnemonia/\" + data[\"X_ray_image_name\"][i])\n",
    "            pnemonia_test = pnemonia_test + 1\n",
    "\n",
    "print(\n",
    "    \"X-ray of Normal patients (TRAIN DATASET): \" + str(normal_train) + \"\\n\",\n",
    "    \"X-ray of Infected patients (TRAIN DATASET): \" + str(pnemonia_train) + \"\\n\",\n",
    "    \"X-ray of Normal patients (TEST DATASET): \" + str(normal_test) + \"\\n\",\n",
    "    \"X-ray of Infected patients (TEST DATASET): \" + str(pnemonia_test) + \"\\n\"\n",
    ")"
   ]
  },
  {
   "cell_type": "code",
   "execution_count": 8,
   "id": "624fe544",
   "metadata": {},
   "outputs": [
    {
     "name": "stdout",
     "output_type": "stream",
     "text": [
      "Train data: 5286\n",
      "Test data: 624\n"
     ]
    }
   ],
   "source": [
    "# redefine number of train test \n",
    "train_num = normal_train + pnemonia_train\n",
    "print(\"Train data: \" + str(train_num))\n",
    "test_num = normal_test + pnemonia_test\n",
    "print(\"Test data: \" + str(test_num))"
   ]
  },
  {
   "cell_type": "code",
   "execution_count": 9,
   "id": "8637b1aa",
   "metadata": {},
   "outputs": [],
   "source": [
    "import torch\n",
    "from torch.utils.data import DataLoader, random_split\n",
    "from torchvision import datasets as dset\n",
    "from torchvision import transforms as T\n",
    "from torch.utils.data import sampler\n",
    "\n",
    "train_data_path = \"Coronahack-Chest-XRay-Dataset/Coronahack-Chest-XRay-Dataset/train/\"\n",
    "test_data_path = \"Coronahack-Chest-XRay-Dataset/Coronahack-Chest-XRay-Dataset/test/\"\n",
    "batch_size = 32\n",
    "\n",
    "# Data augmentation\n",
    "transform = T.Compose([\n",
    "    T.Resize(256),\n",
    "    T.RandomHorizontalFlip(),  # Horizontal flips\n",
    "    T.CenterCrop(256),  # Crops\n",
    "    T.ToTensor(),\n",
    "    T.Normalize((0.5071, 0.4867, 0.4408), (0.2675, 0.2565, 0.2761))  # Hard coded mean and std rgb values\n",
    "])\n",
    "\n",
    "# Load the datasets\n",
    "full_train_data = dset.ImageFolder(root=train_data_path, transform=transform)\n",
    "\n",
    "# Splitting the dataset\n",
    "train_size = int(0.8 * len(full_train_data))\n",
    "val_size = len(full_train_data) - train_size\n",
    "train_dataset, val_dataset = random_split(full_train_data, [train_size, val_size])\n",
    "\n",
    "# Data loaders\n",
    "train_data_loader = DataLoader(train_dataset, batch_size=batch_size, shuffle=True, num_workers=2)\n",
    "val_data_loader = DataLoader(val_dataset, batch_size=batch_size, shuffle=False, num_workers=2)\n",
    "test_data = dset.ImageFolder(root=test_data_path, transform=transform)\n",
    "test_data_loader = DataLoader(test_data, batch_size=batch_size, shuffle=False, num_workers=2)\n"
   ]
  },
  {
   "cell_type": "markdown",
   "id": "ddb614b0",
   "metadata": {},
   "source": [
    "# Visualize Data"
   ]
  },
  {
   "cell_type": "markdown",
   "id": "56fcd6e5",
   "metadata": {},
   "source": [
    "### Counting the number of images in each class"
   ]
  },
  {
   "cell_type": "markdown",
   "id": "271c7565",
   "metadata": {},
   "source": [
    "In this dataset, we categorize the images into two classes: 'Normal' and 'Pneumonia.' In the plot below, 'Normal' instances are colored red, while 'Pneumonia' cases are green."
   ]
  },
  {
   "cell_type": "code",
   "execution_count": 10,
   "id": "fd337c36",
   "metadata": {},
   "outputs": [
    {
     "data": {
      "image/png": "[encoded data removed]",
      "text/plain": [
       "<Figure size 576x432 with 1 Axes>"
      ]
     },
     "metadata": {
      "needs_background": "light"
     },
     "output_type": "display_data"
    },
    {
     "name": "stdout",
     "output_type": "stream",
     "text": [
      "Label\n",
      "Pnemonia    4334\n",
      "Normal      1576\n",
      "Name: count, dtype: int64\n"
     ]
    }
   ],
   "source": [
    "# Count number of images in each class\n",
    "class_counts = data['Label'].value_counts()\n",
    "\n",
    "# Specify colors for each class\n",
    "colors = ['red' if label == 'Normal' else 'green' for label in class_counts.index]\n",
    "\n",
    "# Plotting\n",
    "plt.figure(figsize=(8, 6))\n",
    "class_counts.plot(kind='bar', color=colors)\n",
    "plt.title('Count of Normal vs Pneumonia Cases')\n",
    "plt.xlabel('Class')\n",
    "plt.ylabel('Count')\n",
    "plt.xticks(rotation=0)  # Keep the class names horizontal for readability\n",
    "plt.show()\n",
    "print(class_counts)"
   ]
  },
  {
   "cell_type": "markdown",
   "id": "9a610731",
   "metadata": {},
   "source": [
    "It is important for us to make sure that our training and testing folds have similar ratios of normal and pneumonia images."
   ]
  },
  {
   "cell_type": "code",
   "execution_count": 11,
   "id": "b679117f",
   "metadata": {},
   "outputs": [
    {
     "data": {
      "image/png": "[encoded data removed]",
      "text/plain": [
       "<Figure size 576x432 with 1 Axes>"
      ]
     },
     "metadata": {
      "needs_background": "light"
     },
     "output_type": "display_data"
    },
    {
     "name": "stdout",
     "output_type": "stream",
     "text": [
      "Label\n",
      "Pnemonia    390\n",
      "Normal      234\n",
      "Name: count, dtype: int64\n"
     ]
    },
    {
     "data": {
      "image/png": "[encoded data removed]",
      "text/plain": [
       "<Figure size 576x432 with 1 Axes>"
      ]
     },
     "metadata": {
      "needs_background": "light"
     },
     "output_type": "display_data"
    },
    {
     "name": "stdout",
     "output_type": "stream",
     "text": [
      "Label\n",
      "Pnemonia    3944\n",
      "Normal      1342\n",
      "Name: count, dtype: int64\n"
     ]
    }
   ],
   "source": [
    "train_test_grouped = data.groupby('Dataset_type')\n",
    "\n",
    "for name, group in train_test_grouped:\n",
    "    # Count number of images in each class\n",
    "    class_counts = group['Label'].value_counts()\n",
    "\n",
    "    # Specify colors for each class\n",
    "    colors = ['red' if label == 'Normal' else 'green' for label in class_counts.index]\n",
    "\n",
    "    # Plotting\n",
    "    plt.figure(figsize=(8, 6))\n",
    "    class_counts.plot(kind='bar', color=colors)\n",
    "    plt.title( name + ': Count of Normal vs Pneumonia Cases')\n",
    "    plt.xlabel('Class')\n",
    "    plt.ylabel('Count')\n",
    "    plt.xticks(rotation=0)  # Keep the class names horizontal for readability\n",
    "    plt.show()\n",
    "    print(class_counts)"
   ]
  },
  {
   "cell_type": "markdown",
   "id": "978e3245",
   "metadata": {},
   "source": [
    "> This shows that our model will be training and testing on similar ratios of case and control images."
   ]
  },
  {
   "cell_type": "markdown",
   "id": "3e51e0ad",
   "metadata": {},
   "source": [
    "### Visualizing the chest X-rays"
   ]
  },
  {
   "cell_type": "code",
   "execution_count": 12,
   "id": "c314b525",
   "metadata": {},
   "outputs": [],
   "source": [
    "import matplotlib.pyplot as plt\n",
    "import numpy as np\n",
    "\n",
    "def imshow(inp, title=None):\n",
    "    \"\"\"Imshow for Tensor.\"\"\"\n",
    "    inp = inp.numpy().transpose((1, 2, 0))\n",
    "    mean = np.array([0.5071, 0.4867, 0.4408])\n",
    "    std = np.array([0.2675, 0.2565, 0.2761])\n",
    "    inp = std * inp + mean  # unnormalize\n",
    "    inp = np.clip(inp, 0, 1)\n",
    "    plt.figure(figsize=(10, 5))\n",
    "    plt.imshow(inp)\n",
    "    if title is not None:\n",
    "        plt.title(title)\n",
    "    plt.pause(0.001)  # pause a bit so that plots are updated\n"
   ]
  },
  {
   "cell_type": "markdown",
   "id": "705a41f7",
   "metadata": {},
   "source": [
    "Visualizing the input images from the training data:"
   ]
  },
  {
   "cell_type": "code",
   "execution_count": 13,
   "id": "86661504",
   "metadata": {},
   "outputs": [
    {
     "data": {
      "image/png": "[encoded data removed]",
      "text/plain": [
       "<Figure size 720x360 with 1 Axes>"
      ]
     },
     "metadata": {
      "needs_background": "light"
     },
     "output_type": "display_data"
    }
   ],
   "source": [
    "import torchvision\n",
    "\n",
    "# Load a batch of images and their corresponding labels from the train_data_loader\n",
    "batch_images, batch_labels = next(iter(train_data_loader))\n",
    "\n",
    "# Randomly select a subset of data from the loaded batch\n",
    "num_samples = 5  # Define how many samples you want to visualize\n",
    "random_indices = torch.randperm(len(batch_images))[:num_samples]  # Get random indices\n",
    "selected_images = batch_images[random_indices]\n",
    "selected_labels = batch_labels[random_indices]\n",
    "\n",
    "# Create a grid layout for the selected images\n",
    "image_grid = torchvision.utils.make_grid(selected_images)\n",
    "\n",
    "# Generate titles (labels) for the selected images\n",
    "label_titles = ', '.join([full_train_data.classes[label] for label in selected_labels])\n",
    "\n",
    "# Display the images and their titles\n",
    "imshow(image_grid, title=label_titles)\n"
   ]
  },
  {
   "cell_type": "markdown",
   "id": "becc872c",
   "metadata": {},
   "source": [
    "Visualizing the input images from the testing data:"
   ]
  },
  {
   "cell_type": "code",
   "execution_count": 14,
   "id": "2c10934c",
   "metadata": {},
   "outputs": [
    {
     "data": {
      "image/png": "[encoded data removed]",
      "text/plain": [
       "<Figure size 720x360 with 1 Axes>"
      ]
     },
     "metadata": {
      "needs_background": "light"
     },
     "output_type": "display_data"
    }
   ],
   "source": [
    "import torchvision\n",
    "\n",
    "# Load a batch of images and their corresponding labels from the train_data_loader\n",
    "batch_images, batch_labels = next(iter(test_data_loader))\n",
    "\n",
    "# Randomly select a subset of data from the loaded batch\n",
    "num_samples = 5  # Define how many samples you want to visualize\n",
    "random_indices = torch.randperm(len(batch_images))[:num_samples]  # Get random indices\n",
    "selected_images = batch_images[random_indices]\n",
    "selected_labels = batch_labels[random_indices]\n",
    "\n",
    "# Create a grid layout for the selected images\n",
    "image_grid = torchvision.utils.make_grid(selected_images)\n",
    "\n",
    "# Generate titles (labels) for the selected images\n",
    "label_titles = ', '.join([full_train_data.classes[label] for label in selected_labels])\n",
    "\n",
    "# Display the images and their titles\n",
    "imshow(image_grid, title=label_titles)\n"
   ]
  },
  {
   "cell_type": "markdown",
   "id": "3b6d9f7f",
   "metadata": {},
   "source": [
    "> In this section, we visualized 5 random images from the training and testing set. We can see that the inflammation of the lungs is visible in these chest X-rays for patients with pneumonia. "
   ]
  },
  {
   "cell_type": "markdown",
   "id": "13220512",
   "metadata": {},
   "source": [
    "# Define Training and Testing functions"
   ]
  },
  {
   "cell_type": "code",
   "execution_count": 15,
   "id": "73a45428",
   "metadata": {},
   "outputs": [],
   "source": [
    "def flatten(x):\n",
    "    N = x.shape[0] \n",
    "    return x.view(N, -1)"
   ]
  },
  {
   "cell_type": "code",
   "execution_count": 16,
   "id": "a0d5f6a8",
   "metadata": {},
   "outputs": [],
   "source": [
    "# create a function for model testing \n",
    "def check_accuracy(loader, model):\n",
    "    # loader should be the test_data_loader\n",
    "    print('Checking accuracy on test set')\n",
    "    num_correct = 0\n",
    "    num_samples = 0\n",
    "    model.eval()  # set model to evaluation mode\n",
    "    with torch.no_grad():\n",
    "        for x, y in loader:\n",
    "            x, y = x.to(device=device, dtype=dtype), y.to(device=device, dtype=torch.long)\n",
    "            scores = model(x)\n",
    "            _, preds = scores.max(1)\n",
    "            num_correct += (preds == y).sum()\n",
    "            num_samples += preds.size(0)\n",
    "        acc = float(num_correct) / num_samples\n",
    "        print('Got %d / %d correct (%.2f)' % (num_correct, num_samples, 100 * acc))\n",
    "    return acc"
   ]
  },
  {
   "cell_type": "code",
   "execution_count": 17,
   "id": "14ed4c45",
   "metadata": {},
   "outputs": [],
   "source": [
    "def train_test_model(model, train_data_loader, val_data_loader, test_data_loader, optimizer, epochs=10, print_every=50, device='cuda', use_early_stop=True, patience=5, use_scheduler=False):\n",
    "    \"\"\"\n",
    "    Train and test a model, with optional early stopping based on validation accuracy and optional learning rate scheduling.\n",
    "    \n",
    "    Inputs:\n",
    "    - model: A PyTorch Module giving the model to train.\n",
    "    - train_data_loader: Data loader for the training set.\n",
    "    - val_data_loader: Data loader for the validation set.\n",
    "    - test_data_loader: Data loader for the test set.\n",
    "    - optimizer: An Optimizer object we will use to train the model.\n",
    "    - epochs: (Optional) Number of epochs to train the model.\n",
    "    - print_every: (Optional) Number of iterations before printing loss and checking accuracy.\n",
    "    - device: (Optional) Device to run the model on ('cuda' or 'cpu').\n",
    "    - use_early_stop: (Optional) Whether to use early stopping.\n",
    "    - patience: (Optional) Number of epochs to wait for improvement before stopping.\n",
    "    - use_scheduler: (Optional) Whether to use learning rate scheduler.\n",
    "    \n",
    "    Returns: A tuple of lists containing training, validation, and test accuracies at each print iteration.\n",
    "    \"\"\"\n",
    "    train_accuracies, val_accuracies, test_accuracies = [], [], []\n",
    "    best_val_acc = 0\n",
    "    epochs_no_improve = 0\n",
    "    \n",
    "    # Initialize scheduler if use_scheduler is True\n",
    "    scheduler = None\n",
    "    if use_scheduler:\n",
    "        scheduler = lr_scheduler.StepLR(optimizer, step_size=7, gamma=0.1)\n",
    "\n",
    "    for e in range(epochs):\n",
    "        model.train()  # Set model to training mode\n",
    "        for t, (x, y) in enumerate(train_data_loader):\n",
    "            x, y = x.to(device=device), y.to(device=device, dtype=torch.long)\n",
    "\n",
    "            # Forward pass\n",
    "            scores = model(x)\n",
    "            loss = F.cross_entropy(scores, y)\n",
    "\n",
    "            # Backward and optimize\n",
    "            optimizer.zero_grad()\n",
    "            loss.backward()\n",
    "            optimizer.step()\n",
    "            \n",
    "            if (t + 1) % print_every == 0:\n",
    "                print(f'Epoch {e}, Iteration {t + 1}, loss = {loss.item():.4f}')\n",
    "                # Check accuracy on the training set\n",
    "                train_acc = check_accuracy(train_data_loader, model)\n",
    "                train_accuracies.append(train_acc)\n",
    "                \n",
    "                # Check accuracy on the validation set\n",
    "                val_acc = check_accuracy(val_data_loader, model)\n",
    "                val_accuracies.append(val_acc)\n",
    "                \n",
    "                # Early stopping logic\n",
    "                if use_early_stop:\n",
    "                    if val_acc > best_val_acc:\n",
    "                        best_val_acc = val_acc\n",
    "                        epochs_no_improve = 0\n",
    "                    else:\n",
    "                        epochs_no_improve += 1\n",
    "                        if epochs_no_improve == patience:\n",
    "                            print(f'Early stopping triggered after {e+1} epochs.')\n",
    "                            return train_accuracies, val_accuracies, test_accuracies\n",
    "                print(f'Training Accuracy: {train_acc:.2f}, Validation Accuracy: {val_acc:.2f}')\n",
    "        \n",
    "        # Learning rate scheduler step\n",
    "        if use_scheduler and scheduler is not None:\n",
    "            scheduler.step()\n",
    "\n",
    "    # Final testing accuracy after all epochs\n",
    "    print(\"Final Test Accuracy\")\n",
    "    final_test_acc = check_accuracy(test_data_loader, model)\n",
    "    print(f'Final Test Accuracy: {final_test_acc:.2f}')\n",
    "    \n",
    "    return train_accuracies, val_accuracies, test_accuracies"
   ]
  },
  {
   "cell_type": "code",
   "execution_count": null,
   "id": "6d922c89",
   "metadata": {},
   "outputs": [],
   "source": []
  },
  {
   "cell_type": "markdown",
   "id": "9e76da72",
   "metadata": {},
   "source": [
    "# Simple CNN"
   ]
  },
  {
   "cell_type": "markdown",
   "id": "6dd81ca1",
   "metadata": {},
   "source": [
    "### Defining the simple CNN architecture"
   ]
  },
  {
   "cell_type": "code",
   "execution_count": 18,
   "id": "cc9f0df9",
   "metadata": {},
   "outputs": [],
   "source": [
    "# Define the CNN architecture\n",
    "class PneumoniaSimpleCNN(nn.Module):\n",
    "    def __init__(self, num_classes=2):  # 2 classes: Normal, Pneumonia\n",
    "        super(PneumoniaSimpleCNN, self).__init__()\n",
    "        # Define layers of a CNN\n",
    "        self.conv1 = nn.Conv2d(3, 32, kernel_size=3, stride=1, padding=1)  \n",
    "        self.conv2 = nn.Conv2d(32, 64, kernel_size=3, stride=1, padding=1)\n",
    "        \n",
    "        self.fc1 = nn.Linear(64 * 64 * 64, 512)  \n",
    "        self.fc2 = nn.Linear(512, num_classes)\n",
    "        \n",
    "        self.relu = nn.ReLU()\n",
    "        self.pool = nn.MaxPool2d(kernel_size=2, stride=2, padding=0)\n",
    "        \n",
    "    def forward(self, x):\n",
    "        \n",
    "        x = self.pool(self.relu(self.conv1(x)))\n",
    "        x = self.pool(self.relu(self.conv2(x)))\n",
    "        # Flatten the layer\n",
    "        x = flatten(x)\n",
    "        x = self.relu(self.fc1(x))\n",
    "        x = self.fc2(x)\n",
    "        return x"
   ]
  },
  {
   "cell_type": "markdown",
   "id": "161b82c3",
   "metadata": {},
   "source": [
    "### Train and Test the Simple CNN model"
   ]
  },
  {
   "cell_type": "code",
   "execution_count": null,
   "id": "d2a05350",
   "metadata": {},
   "outputs": [
    {
     "name": "stdout",
     "output_type": "stream",
     "text": [
      "Epoch 0, Iteration 50, loss = 0.2671\n",
      "Checking accuracy on test set\n"
     ]
    }
   ],
   "source": [
    "num_classes = 2  # Normal, Pneumonia\n",
    "learning_rate = 0.001\n",
    "num_epochs = 10\n",
    "from torch.optim import lr_scheduler\n",
    "\n",
    "# Define the model \n",
    "model = PneumoniaSimpleCNN(num_classes).to(device)\n",
    "\n",
    "# Optimizer\n",
    "optimizer = optim.Adam(model.parameters(), lr=learning_rate,weight_decay=1e-4)\n",
    "\n",
    "# Train the model\n",
    "train_accuracies, test_accuracies = train_test_model(model,\n",
    "                                                     train_data_loader,\n",
    "                                                     val_data_loader, test_data_loader, \n",
    "                                                     optimizer, \n",
    "                                                     epochs=10,\n",
    "                                                     print_every=50,\n",
    "                                                     device='cuda',\n",
    "                                                     use_early_stop=True,\n",
    "                                                     patience=5, \n",
    "                                                     use_scheduler=True)"
   ]
  },
  {
   "cell_type": "markdown",
   "id": "9a3ce338",
   "metadata": {},
   "source": [
    "### Visualize the image, true labels, and predicted labels"
   ]
  },
  {
   "cell_type": "code",
   "execution_count": null,
   "id": "b3a3d57e",
   "metadata": {},
   "outputs": [],
   "source": [
    "def imshow(img):\n",
    "    img = img.cpu().numpy().transpose((1, 2, 0))  # convert from Tensor image\n",
    "    mean = np.array([0.485, 0.456, 0.406])\n",
    "    std = np.array([0.229, 0.224, 0.225])\n",
    "    img = std * img + mean  # Unnormalize\n",
    "    img = np.clip(img, 0, 1)  # Clip values to [0, 1] range\n",
    "    plt.imshow(img)\n",
    "    plt.show()\n",
    "\n",
    "# Assuming test_data_loader has batch_size at least 5 or adjust as necessary\n",
    "# Get a batch of test images and labels\n",
    "dataiter = iter(test_data_loader)\n",
    "images, labels = next(dataiter)\n",
    "\n",
    "# Select random 5 indices\n",
    "idx = np.random.choice(images.size(0), 5, replace=False)\n",
    "\n",
    "# Select random images and labels\n",
    "random_images = images[idx]\n",
    "random_labels = labels[idx]\n",
    "\n",
    "# Move tensors to the configured device\n",
    "random_images, random_labels = random_images.to(device), random_labels.to(device)\n",
    "\n",
    "# Get predictions\n",
    "model.eval()  # Make sure model is in eval mode\n",
    "with torch.no_grad():\n",
    "    outputs = model(random_images)\n",
    "    _, predicted = torch.max(outputs, 1)\n",
    "\n",
    "# Show images\n",
    "imshow(torchvision.utils.make_grid(random_images.cpu()))\n",
    "# Print true and predicted labels\n",
    "print('True labels: ', ' '.join(f'{test_data.classes[random_labels[j].item()]}' for j in range(len(random_labels))))\n",
    "print('Predicted: ', ' '.join(f'{test_data.classes[predicted[j].item()]}' for j in range(len(predicted))))"
   ]
  },
  {
   "cell_type": "markdown",
   "id": "9a609655",
   "metadata": {},
   "source": [
    "### Visualize accuracy over epochs "
   ]
  },
  {
   "cell_type": "code",
   "execution_count": null,
   "id": "08afbb37",
   "metadata": {},
   "outputs": [],
   "source": [
    "# accuracies is a list of accuracies of the model for each epoch \n",
    "epochs = range(1,num_epochs+2) # the last epoch here represents the final prediction \n",
    "\n",
    "# plot accuracies over epochs\n",
    "plt.plot(epochs, accuracies, marker='o', linestyle='-')\n",
    "plt.title('Model Accuracy Over Epochs')\n",
    "plt.xlabel('Epochs')\n",
    "plt.ylabel('Accuracy')\n",
    "plt.grid(True)\n",
    "plt.show()"
   ]
  },
  {
   "cell_type": "markdown",
   "id": "5e53f198",
   "metadata": {},
   "source": [
    "> Note: This accuracy of 78% is not that impressive when we consider the ratio of the number of pneumonia and normal images in the testing set. This is because simply predicting Pnemonia for every image will result in a 62.5% accuracy. "
   ]
  },
  {
   "cell_type": "markdown",
   "id": "9d65955e",
   "metadata": {},
   "source": [
    "# Resnet CNN"
   ]
  },
  {
   "cell_type": "markdown",
   "id": "32b31917",
   "metadata": {},
   "source": [
    "### Can Resnet CNN be applied to classify chest X-rays?"
   ]
  },
  {
   "cell_type": "markdown",
   "id": "6a50c0ff",
   "metadata": {},
   "source": [
    "### Define the Resnet Architecture"
   ]
  },
  {
   "cell_type": "code",
   "execution_count": null,
   "id": "a44afbd4",
   "metadata": {},
   "outputs": [],
   "source": [
    "class ResNetBlocks(nn.Module):\n",
    "    def __init__(self, in_channels, out_channels, stride=1, downsample=None, batchnorm=True):\n",
    "        super(ResNetBlocks, self).__init__()\n",
    "        \n",
    "        self.downsample = downsample\n",
    "        self.relu = nn.ReLU(inplace=True) #relu\n",
    "        self.out_channels = out_channels\n",
    "        \n",
    "        self.conv_1 = nn.Sequential(\n",
    "            nn.Conv2d(in_channels, out_channels, (3,3), stride=stride, padding = 1),\n",
    "            nn.ReLU(inplace=True)\n",
    "        )\n",
    "        if batchnorm:\n",
    "            self.conv_1 = nn.Sequential(\n",
    "                nn.Conv2d(in_channels, out_channels, (3,3), stride=stride, padding = 1), \n",
    "                nn.BatchNorm2d(out_channels),\n",
    "                nn.ReLU(inplace=True)\n",
    "                )\n",
    "        \n",
    "        self.conv_2 = nn.Sequential(\n",
    "            nn.Conv2d(out_channels, out_channels, (3,3), stride=1, padding = 1)\n",
    "        )\n",
    "        if batchnorm:\n",
    "            self.conv_2 = nn.Sequential(\n",
    "                nn.Conv2d(out_channels, out_channels, (3,3), stride=1, padding = 1), \n",
    "                nn.BatchNorm2d(out_channels)\n",
    "            )\n",
    "        \n",
    "    def forward(self, x):\n",
    "        resid=x\n",
    "        out = self.conv_1(x)\n",
    "        out = self.conv_2(out)\n",
    "        if self.downsample:\n",
    "            resid=self.downsample(x)\n",
    "        out = out + resid\n",
    "        out = self.relu(out)\n",
    "        return out\n",
    "        \n",
    "    \n",
    "class ResNet(nn.Module):\n",
    "    \n",
    "    def __init__(self, block, num_blocks, batchnorm=True):\n",
    "        super(ResNet, self).__init__()\n",
    "        \n",
    "        self.inchannel=64 # current channel size, used later for skips \n",
    "        \n",
    "        self.convlayer_1 = nn.Sequential(\n",
    "            nn.Conv2d(3, 64, (7,7), stride=2, padding=3),\n",
    "            nn.ReLU(inplace=True)\n",
    "        )\n",
    "        \n",
    "        if batchnorm:\n",
    "            self.convlayer_1 = nn.Sequential(\n",
    "                nn.Conv2d(3, 64, (7,7), stride=2, padding=3),\n",
    "                nn.BatchNorm2d(64),\n",
    "                nn.ReLU(inplace=True)\n",
    "            )\n",
    "        \n",
    "        self.maxpool = nn.MaxPool2d((3,3), stride=2, padding = 1)\n",
    "        \n",
    "        self.block1 = self.make_layer(block, 64, num_blocks[0], stride = 1)\n",
    "        self.block2 = self.make_layer(block, 128, num_blocks[1], stride = 1)\n",
    "        self.block3 = self.make_layer(block, 256, num_blocks[2], stride = 1)\n",
    "        self.block4 = self.make_layer(block, 512, num_blocks[3], stride = 2)\n",
    "        \n",
    "        self.avgpool = nn.AdaptiveAvgPool2d((1,1))\n",
    "        self.fc = nn.Linear( 512, num_class) \n",
    "        #nn.init.kaiming_normal_(self.fc.weight)\n",
    "    \n",
    "    def make_layer(self, block, channel, numblocks, stride=1, batchnorm=True):\n",
    "        downsample = None\n",
    "        if self.inchannel != channel:\n",
    "            downsample = nn.Sequential(\n",
    "                nn.Conv2d(self.inchannel, channel, (1,1), stride=stride) # add skip arrow\n",
    "            )\n",
    "            if batchnorm:\n",
    "                downsample = nn.Sequential(\n",
    "                    nn.Conv2d(self.inchannel, channel, (1,1), stride=stride), # add skip arrow\n",
    "                    nn.BatchNorm2d(channel)\n",
    "                )\n",
    "            \n",
    "        layers = []\n",
    "        layers.append(block(self.inchannel, channel, stride, downsample))\n",
    "        self.inchannel = channel #update current channel\n",
    "        \n",
    "        # add number of blocks here \n",
    "        for j in range(1,numblocks): # if we want to add 2 blocks, this for loop will run once \n",
    "            layers.append(block(self.inchannel, channel))\n",
    "            \n",
    "        return nn.Sequential(*layers)\n",
    "    \n",
    "        \n",
    "    def forward(self, x):\n",
    "        x = self.convlayer_1(x)\n",
    "        x = self.maxpool(x)\n",
    "        x = self.block1(x)\n",
    "        x = self.block2(x)\n",
    "        x = self.block3(x)\n",
    "        x = self.block4(x)\n",
    "        x = self.avgpool(x)\n",
    "        x = flatten(x)\n",
    "        x = self.fc(x)\n",
    "        return x"
   ]
  },
  {
   "cell_type": "markdown",
   "id": "994c61b5",
   "metadata": {},
   "source": [
    "### Train and Test the model"
   ]
  },
  {
   "cell_type": "code",
   "execution_count": null,
   "id": "1546d12b",
   "metadata": {},
   "outputs": [],
   "source": [
    "num_classes = 2  # Normal, Pneumonia\n",
    "learning_rate = 0.001\n",
    "num_epochs = 10\n",
    "\n",
    "# Define the model \n",
    "model = ResNet(ResNetBlocks, [2,2,2,2]).to(device)\n",
    "\n",
    "# Optimizer\n",
    "optimizer = optim.Adam(model.parameters(), lr=learning_rate)\n",
    "\n",
    "# Train the model\n",
    "train_accuracies, test_accuracies = train_test_model(model,\n",
    "                                                     train_data_loader,\n",
    "                                                     val_data_loader, test_data_loader, \n",
    "                                                     optimizer, \n",
    "                                                     epochs=10,\n",
    "                                                     print_every=50,\n",
    "                                                     device='cuda',\n",
    "                                                     use_early_stop=True,\n",
    "                                                     patience=5, \n",
    "                                                     use_scheduler=False)"
   ]
  },
  {
   "cell_type": "markdown",
   "id": "6dbbdab8",
   "metadata": {},
   "source": [
    "### Visualize the Accuracy Over Epochs"
   ]
  },
  {
   "cell_type": "code",
   "execution_count": null,
   "id": "a237e78e",
   "metadata": {
    "scrolled": true
   },
   "outputs": [],
   "source": [
    "import matplotlib.pyplot as plt\n",
    "\n",
    "# Assuming train_accuracies and test_accuracies contain the average accuracy per epoch\n",
    "epochs = range(1, len(train_accuracies) + 1)\n",
    "\n",
    "plt.figure(figsize=[8,6])\n",
    "plt.plot(epochs, train_accuracies, label='Training Accuracy', marker='o')\n",
    "plt.plot(epochs, test_accuracies, label='Test Accuracy', marker='o')\n",
    "plt.title('Training and Test Accuracies per Epoch')\n",
    "plt.xlabel('Epoch')\n",
    "plt.ylabel('Accuracy')\n",
    "plt.legend()\n",
    "plt.grid(True)\n",
    "plt.show()\n"
   ]
  },
  {
   "cell_type": "code",
   "execution_count": null,
   "id": "5745ae78",
   "metadata": {},
   "outputs": [],
   "source": []
  },
  {
   "cell_type": "code",
   "execution_count": null,
   "id": "206d3b39",
   "metadata": {},
   "outputs": [],
   "source": [
    "import torch\n",
    "import torch.nn as nn\n",
    "import torch.nn.functional as F\n",
    "\n",
    "class VGG16(nn.Module):\n",
    "    def __init__(self, num_classes=2):  # Default for ImageNet\n",
    "        super(VGG16, self).__init__()\n",
    "        # Convolutional layers\n",
    "        self.features = nn.Sequential(\n",
    "            # Block 1\n",
    "            nn.Conv2d(3, 64, kernel_size=3, padding=1),\n",
    "            nn.ReLU(inplace=True),\n",
    "            nn.Conv2d(64, 64, kernel_size=3, padding=1),\n",
    "            nn.ReLU(inplace=True),\n",
    "            nn.MaxPool2d(kernel_size=2, stride=2),\n",
    "            # Block 2\n",
    "            nn.Conv2d(64, 128, kernel_size=3, padding=1),\n",
    "            nn.ReLU(inplace=True),\n",
    "            nn.Conv2d(128, 128, kernel_size=3, padding=1),\n",
    "            nn.ReLU(inplace=True),\n",
    "            nn.MaxPool2d(kernel_size=2, stride=2),\n",
    "            # Block 3\n",
    "            nn.Conv2d(128, 256, kernel_size=3, padding=1),\n",
    "            nn.ReLU(inplace=True),\n",
    "            nn.Conv2d(256, 256, kernel_size=3, padding=1),\n",
    "            nn.ReLU(inplace=True),\n",
    "            nn.Conv2d(256, 256, kernel_size=3, padding=1),\n",
    "            nn.ReLU(inplace=True),\n",
    "            nn.MaxPool2d(kernel_size=2, stride=2),\n",
    "            # Block 4\n",
    "            nn.Conv2d(256, 512, kernel_size=3, padding=1),\n",
    "            nn.ReLU(inplace=True),\n",
    "            nn.Conv2d(512, 512, kernel_size=3, padding=1),\n",
    "            nn.ReLU(inplace=True),\n",
    "            nn.Conv2d(512, 512, kernel_size=3, padding=1),\n",
    "            nn.ReLU(inplace=True),\n",
    "            nn.MaxPool2d(kernel_size=2, stride=2),\n",
    "            # Block 5\n",
    "            nn.Conv2d(512, 512, kernel_size=3, padding=1),\n",
    "            nn.ReLU(inplace=True),\n",
    "            nn.Conv2d(512, 512, kernel_size=3, padding=1),\n",
    "            nn.ReLU(inplace=True),\n",
    "            nn.Conv2d(512, 512, kernel_size=3, padding=1),\n",
    "            nn.ReLU(inplace=True),\n",
    "            nn.MaxPool2d(kernel_size=2, stride=2)\n",
    "        )\n",
    "        # Fully connected layers\n",
    "        self.classifier = nn.Sequential(\n",
    "            nn.Linear(512 * 8 * 8, 4096),\n",
    "            nn.ReLU(True),\n",
    "            nn.Dropout(),\n",
    "            nn.Linear(4096, 4096),\n",
    "            nn.ReLU(True),\n",
    "            nn.Dropout(),\n",
    "            nn.Linear(4096, num_classes)  # num_classes is the number of your final output classes\n",
    "        )\n",
    "\n",
    "    def forward(self, x):\n",
    "        x = self.features(x)\n",
    "        #print(x.shape)  # Add this line to check the output size\n",
    "        x = x.view(x.size(0), -1)\n",
    "        x = self.classifier(x)\n",
    "        return x"
   ]
  },
  {
   "cell_type": "code",
   "execution_count": null,
   "id": "b05df060",
   "metadata": {},
   "outputs": [],
   "source": [
    "device = torch.device(\"cuda\" if torch.cuda.is_available() else \"cpu\")\n",
    "learning_rate = 0.001\n",
    "num_epochs = 10\n",
    "model = VGG16(num_classes=2)  # Specify your number of classes\n",
    "model.to(device)\n",
    "optimizer = optim.Adam(model.parameters(), lr=learning_rate)\n",
    "# Train the model\n",
    "train_accuracies, test_accuracies = train_test_model(model,\n",
    "                                                     train_data_loader,\n",
    "                                                     val_data_loader, test_data_loader, \n",
    "                                                     optimizer, \n",
    "                                                     epochs=10,\n",
    "                                                     print_every=50,\n",
    "                                                     device='cuda',\n",
    "                                                     use_early_stop=True,\n",
    "                                                     patience=5, \n",
    "                                                     use_scheduler=True)"
   ]
  },
  {
   "cell_type": "code",
   "execution_count": null,
   "id": "87a2c8e0",
   "metadata": {},
   "outputs": [],
   "source": []
  }
 ],
 "metadata": {
  "kernelspec": {
   "display_name": "Python 3 (ipykernel)",
   "language": "python",
   "name": "python3"
  },
  "language_info": {
   "codemirror_mode": {
    "name": "ipython",
    "version": 3
   },
   "file_extension": ".py",
   "mimetype": "text/x-python",
   "name": "python",
   "nbconvert_exporter": "python",
   "pygments_lexer": "ipython3",
   "version": "3.9.5"
  }
 },
 "nbformat": 4,
 "nbformat_minor": 5
}
